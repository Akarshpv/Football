{
  "cells": [
    {
      "cell_type": "code",
      "execution_count": null,
      "metadata": {
        "id": "lGneUCARb5jY"
      },
      "outputs": [],
      "source": [
        "import io\n",
        "import numpy as np\n",
        "import pandas as pd\n",
        "from copy import deepcopy\n",
        "from google.colab import files\n",
        "import matplotlib.pyplot as plt\n",
        "import seaborn as sns\n",
        "import plotly.express as px"
      ]
    },
    {
      "cell_type": "code",
      "execution_count": null,
      "metadata": {
        "id": "QWuItli8cwH0"
      },
      "outputs": [],
      "source": [
        "uploaded = files.upload()"
      ]
    },
    {
      "cell_type": "code",
      "execution_count": null,
      "metadata": {
        "id": "cKI9F3Hgc5l5"
      },
      "outputs": [],
      "source": [
        "data_df = pd.read_csv(io.BytesIO(uploaded[\"njr_data.csv\"]))\n",
        "data_df"
      ]
    },
    {
      "cell_type": "code",
      "execution_count": null,
      "metadata": {
        "id": "C_sG7VRPdbRg"
      },
      "outputs": [],
      "source": [
        "data_df[data_df[\"team\"].str.contains(\"Barcelona\")]"
      ]
    },
    {
      "cell_type": "code",
      "execution_count": null,
      "metadata": {
        "id": "Kqai9FRZesYI"
      },
      "outputs": [],
      "source": [
        "mins_df = data_df.groupby([\"team\"])[\"time\"].sum().reset_index()\n",
        "px.bar(x = \"team\",y = \"time\" , text = \"time\", data_frame = mins_df)"
      ]
    },
    {
      "cell_type": "code",
      "execution_count": null,
      "metadata": {
        "id": "vRO5o1QgoB7L"
      },
      "outputs": [],
      "source": [
        "data_df.info()"
      ]
    },
    {
      "cell_type": "code",
      "execution_count": null,
      "metadata": {
        "id": "NPEXjTz3j5dl"
      },
      "outputs": [],
      "source": [
        "data_df[\"goalsPer90\"] = data_df[\"goals\"].divide(data_df[\"time\"]).multiply(90)\n",
        "data_df[\"assistsPer90\"] = data_df[\"assists\"].divide(data_df[\"time\"]).multiply(90)\n",
        "per90Cols = [\"goals\", \"assists\", \"xGChain\",  \"xGBuildup\",\n",
        "             \"npxG\", \"npg\", 'xG',\"xA\"]\n",
        "for col in per90Cols:\n",
        "    data_df[col + \"Per90\"] = data_df[col].divide(data_df[\"time\"]).multiply(90)\n",
        "cols_for_radar = [i + \"Per90\" for i in per90Cols]\n",
        "print(cols_for_radar)"
      ]
    },
    {
      "cell_type": "code",
      "execution_count": null,
      "metadata": {
        "id": "ZIo4OGywqNv_"
      },
      "outputs": [],
      "source": [
        "data_df.loc[(data_df[\"team\"] == \"Paris Saint Germain\"), cols_for_radar].sum()"
      ]
    },
    {
      "cell_type": "code",
      "source": [
        "data_df.loc[(data_df[\"team\"] == \"Barcelona\"), cols_for_radar].sum()"
      ],
      "metadata": {
        "id": "FBAgB1pQ9Apq"
      },
      "execution_count": null,
      "outputs": []
    },
    {
      "cell_type": "code",
      "execution_count": null,
      "metadata": {
        "id": "dYvIibZS4QjM"
      },
      "outputs": [],
      "source": [
        "fig = px.line_polar(data_df, r=data_df.loc[(data_df[\"team\"] == \"Barcelona\"), cols_for_radar].sum(),\n",
        "                    theta=cols_for_radar, line_close=True)\n",
        "fig.update_traces(fill='toself')\n",
        "fig.show()"
      ]
    },
    {
      "cell_type": "code",
      "source": [
        "fig = px.line_polar(data_df, r=data_df.loc[(data_df[\"team\"] == \"Paris Saint Germain\"), cols_for_radar].sum(),\n",
        "                    theta=cols_for_radar, line_close=True)\n",
        "fig.update_traces(fill='toself')\n",
        "fig.show()"
      ],
      "metadata": {
        "id": "K1wJr6iw8f-r"
      },
      "execution_count": null,
      "outputs": []
    },
    {
      "cell_type": "code",
      "execution_count": null,
      "metadata": {
        "id": "S6v_ko1V4w8i"
      },
      "outputs": [],
      "source": [
        "from sklearn.preprocessing import MinMaxScaler\n",
        "scaler = MinMaxScaler()\n",
        "data_df[cols_for_radar] = scaler.fit_transform(data_df[cols_for_radar])"
      ]
    },
    {
      "cell_type": "code",
      "execution_count": null,
      "metadata": {
        "id": "TTPLaJHs4_-X"
      },
      "outputs": [],
      "source": [
        "fig = px.line_polar(data_df, r=data_df.loc[(data_df[\"player\"] == \"Neymar\"), cols_for_radar].sum(),\n",
        "                    theta=cols_for_radar, line_close=True)\n",
        "fig.update_traces(fill='toself')\n",
        "fig.show()"
      ]
    },
    {
      "cell_type": "code",
      "execution_count": null,
      "metadata": {
        "id": "LZ27H72j5LIP"
      },
      "outputs": [],
      "source": [
        "for i, row in data_df.iterrows():\n",
        "    print(row[\"team\"])\n",
        "    fig = px.line_polar(data_df, r=data_df.loc[(data_df[\"team\"] == row[\"team\"]), cols_for_radar].sum(),\n",
        "                        theta=cols_for_radar, line_close=True,\n",
        "                        title=row[\"team\"])\n",
        "    fig.update_traces(fill='toself')\n",
        "    fig.show()"
      ]
    },
    {
      "cell_type": "code",
      "execution_count": null,
      "metadata": {
        "id": "WZv1p7hV5301"
      },
      "outputs": [],
      "source": [
        "id_names = data_df.drop_duplicates(subset=[\"id\"])[[\"id\", \"player_name\"]]\n",
        "id_names.shape\n",
        "id_names.head()\n",
        "df_max = data_df[cols_for_radar].max().max()"
      ]
    },
    {
      "cell_type": "code",
      "execution_count": null,
      "metadata": {
        "id": "4FGPGmTC6id1"
      },
      "outputs": [],
      "source": [
        "import plotly.graph_objects as go\n",
        "for i, row in id_names.iterrows():\n",
        "    if row[\"id\"] == 647:\n",
        "        continue\n",
        "    print(row[\"player_name\"])\n",
        "    # Initiate the plotly go figure\n",
        "    fig = go.Figure()\n",
        "    # Add Radar plots for different players:\n",
        "    fig.add_trace(go.Scatterpolar(\n",
        "        r=data_df.loc[(data_df[\"id\"] == 647), cols_for_radar].sum(),\n",
        "        theta=cols_for_radar,\n",
        "        fill='toself',\n",
        "        name='Harry Kane'))\n",
        "    fig.add_trace(go.Scatterpolar(\n",
        "        r=data_df.loc[(data_df[\"id\"] == row[\"id\"]), cols_for_radar].sum(),\n",
        "        theta=cols_for_radar,\n",
        "        fill='toself',\n",
        "        name=row[\"player_name\"]))\n",
        "    # Additional properties for the plot:\n",
        "    fig.update_layout(\n",
        "        title=\"Harry Kane vs \" + row[\"player_name\"],\n",
        "    polar=dict(\n",
        "        radialaxis=dict(\n",
        "        visible=True,\n",
        "        range=[0, df_max]\n",
        "        )),\n",
        "    showlegend=True\n",
        "    )\n",
        "    fig.show()"
      ]
    }
  ],
  "metadata": {
    "colab": {
      "name": "HKRep.ipynb",
      "provenance": []
    },
    "kernelspec": {
      "display_name": "Python 3",
      "name": "python3"
    },
    "language_info": {
      "name": "python"
    }
  },
  "nbformat": 4,
  "nbformat_minor": 0
}